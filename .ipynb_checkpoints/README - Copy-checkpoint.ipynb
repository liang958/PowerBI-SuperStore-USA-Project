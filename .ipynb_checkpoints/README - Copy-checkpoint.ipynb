{
 "cells": [
  {
   "cell_type": "markdown",
   "id": "2b27b7e2-9443-4963-931b-1a9c07944d7c",
   "metadata": {},
   "source": [
    "# PowerBI: USA Superstore Project\n",
    "\n",
    "## Project/Goals\n",
    "1. Data precessing, and transform using PowerBI\n",
    "2. Creating impactful dashboards and story to help stakeholder make decisions\n",
    "3. Communicating insights with the correct visualizations\n",
    "\n",
    "## Process\n",
    "### Step 1:\n",
    "Data Transforming.\n",
    "\n",
    "### Step 2:\n",
    "\n",
    "Create visualizations and explore the data.\n",
    "\n",
    "![image](./image/Sale.PNG)\n",
    "\n",
    "![image](./image/Profit.PNG)\n",
    "\n",
    "\n",
    "\n",
    "## Results\n",
    "Results and insights. \n",
    "1. The total sale in 2016 is higher than the other years.\n",
    "\n",
    "2. The East and West regions have the highest sales.\n",
    "\n",
    "3. Technology category makes the biggest profit vs table has the highest loss.\n",
    "\n",
    "4. California and New York have the highest profits among other states.\n",
    "\n",
    "\n",
    "\n"
   ]
  },
  {
   "cell_type": "code",
   "execution_count": null,
   "id": "6406f32e-233d-4f36-84a0-0f7b5a0333cd",
   "metadata": {},
   "outputs": [],
   "source": []
  }
 ],
 "metadata": {
  "kernelspec": {
   "display_name": "Python 3 (ipykernel)",
   "language": "python",
   "name": "python3"
  },
  "language_info": {
   "codemirror_mode": {
    "name": "ipython",
    "version": 3
   },
   "file_extension": ".py",
   "mimetype": "text/x-python",
   "name": "python",
   "nbconvert_exporter": "python",
   "pygments_lexer": "ipython3",
   "version": "3.11.3"
  }
 },
 "nbformat": 4,
 "nbformat_minor": 5
}
